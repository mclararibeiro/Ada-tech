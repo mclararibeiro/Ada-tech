{
  "cells": [
    {
      "cell_type": "markdown",
      "metadata": {
        "id": "772zT7AIyLoQ"
      },
      "source": [
        "# Arquivos\n",
        "\n",
        "Uma característica que nenhum de nossos programas teve agora é a **persistência** de dados. Sempre que nossos programas eram executados, eles precisavam que os usuários digitassem todos os dados de entrada novamente, e após exibir os dados de saída na tela, o programa era fechado e esses dados eram perdidos para sempre.\n",
        "\n",
        "A persistência se dá através de **arquivos**: estruturas abstratas para armazenar dados em uma memória permanente, como o disco rígido, um _drive_ USB ou um servidor _web_."
      ]
    },
    {
      "cell_type": "markdown",
      "metadata": {
        "id": "pjePIztxsLpf"
      },
      "source": [
        "\n",
        "## Arquivos em Python\n",
        "O Python possui algumas funções prontas para manipular arquivos binários puros (onde, conhecendo a estrutura interna de qualquer formato, podemos salvar qualquer tipo de arquivo) e para manipular arquivos de texto (onde os binários são decodificados como _strings_).\n",
        "\n",
        "Focaremos no básico de manipulação de arquivo de texto, pois, na prática, quando formos trabalhar com arquivos mais complexos, é provável que usaremos bibliotecas específicas para lidar com eles, e elas já terão funções próprias para ler e salvar esses arquivos da maneira correta.\n",
        "\n"
      ]
    },
    {
      "cell_type": "markdown",
      "metadata": {
        "id": "5sSjIEtVsPbw"
      },
      "source": [
        "### Abrindo e fechando arquivos\n",
        "Podemos criar arquivos novos ou abrir arquivos já existentes utilizando a função _open()_. Ela possui 2 argumentos: uma com o caminho do arquivo e outra com o modo de operação. Para saber mais: \n",
        "<br> \n",
        "https://www.w3schools.com/python/ref_func_open.asp\n",
        "<br>\n",
        "https://docs.python.org/3/library/functions.html#open\n",
        "<br>\n",
        "\n",
        "| Modo   | Símbolo | Descrição                                                                                                                             |\n",
        "|--------|---------|---------------------------------------------------------------------------------------------------------------------------------------|\n",
        "| _create new_  | x       | Abre exclusivamente para criar, dando falha se o arquivo já existir                                                                                                       |\n",
        "| _write_  | w       | Abre um arquivo para escrever. Caso arquivo não exista cria um novo arquivo                                                                                                                  |\n",
        "| _append_ | a       | Abre um arquivo existente para adicionar informações ao seu final                                                                     |\n",
        "| _read_   | r       | Abre para ler um arquivo existente. Esse é o argumento padrão do parâmetro _mode_ na função _open()_                                                                        |\n",
        "| _update_ | +       | Abre para atualizar. ao ser combinado com outros modos, permite alteração de arquivo já existente tanto para escrever quanto para ler. exemplo: r+ abre um arquivo existente e permite modificá-lo) |\n",
        "\n",
        "Após abrirmos (ou criarmos) um arquivo, podemos realizar diversas operações. Ao final de todas elas, devemos **fechar** o nosso arquivo usando a função _close()_. Essa etapa é importante por 2 motivos:\n",
        "* 1. Se alteramos o arquivo mas não o fechamos, as alterações não serão salvas.\n",
        "* 2. Se esquecermos de fechar um arquivo, outros programas podem ter problemas de acesso a ele.\n",
        "\n",
        "A função _open_ retorna alguns dados que devem ser salvos em uma variável que será responsável por guardar alguns dados de acesso ao arquivo, para uso interno do Python.\n"
      ]
    },
    {
      "cell_type": "markdown",
      "metadata": {
        "id": "I-VV7i1RsTnX"
      },
      "source": [
        "\n",
        "### Escrevendo arquivos\n",
        "Para entender melhor o _open_ e o _close_, façamos um programinha que escreve algo em um arquivo. Além das duas funções que já vimos, também utilizaremos a função _write_, que escreve um texto em um arquivo. É quase como um _print_ mais simples, mas ele aceita apenas uma _string_."
      ]
    },
    {
      "cell_type": "code",
      "execution_count": 1,
      "metadata": {
        "id": "jXCAhjt9mzoq"
      },
      "outputs": [],
      "source": [
        "arquivo = open('ola.txt', 'x')\n",
        "arquivo.write(\"hello world\")\n",
        "arquivo.close()"
      ]
    },
    {
      "cell_type": "code",
      "execution_count": 2,
      "metadata": {
        "colab": {
          "base_uri": "https://localhost:8080/",
          "height": 235
        },
        "id": "w7In3VWVmzu-",
        "outputId": "517649d0-e258-44a5-bd45-368302df7eb7"
      },
      "outputs": [
        {
          "ename": "FileExistsError",
          "evalue": "[Errno 17] File exists: 'ola.txt'",
          "output_type": "error",
          "traceback": [
            "\u001b[1;31m---------------------------------------------------------------------------\u001b[0m",
            "\u001b[1;31mFileExistsError\u001b[0m                           Traceback (most recent call last)",
            "Cell \u001b[1;32mIn [2], line 1\u001b[0m\n\u001b[1;32m----> 1\u001b[0m arquivo \u001b[39m=\u001b[39m \u001b[39mopen\u001b[39m(\u001b[39m'\u001b[39m\u001b[39mola.txt\u001b[39m\u001b[39m'\u001b[39m, \u001b[39m'\u001b[39m\u001b[39mx\u001b[39m\u001b[39m'\u001b[39m)\n\u001b[0;32m      2\u001b[0m arquivo\u001b[39m.\u001b[39mwrite(\u001b[39m\"\u001b[39m\u001b[39mhello world\u001b[39m\u001b[39m\"\u001b[39m)\n\u001b[0;32m      3\u001b[0m arquivo\u001b[39m.\u001b[39mclose()\n",
            "\u001b[1;31mFileExistsError\u001b[0m: [Errno 17] File exists: 'ola.txt'"
          ]
        }
      ],
      "source": [
        "arquivo = open('ola.txt', 'x')\n",
        "arquivo.write(\"hello world\")\n",
        "arquivo.close()"
      ]
    },
    {
      "cell_type": "markdown",
      "metadata": {
        "id": "WBGkdTzoFvqq"
      },
      "source": [
        "Por que deu erro aqui?\n",
        "\n",
        "<br> <br> <br> <br> <br>\n",
        "\n",
        "Utilizamos o modo 'x' que ele cria um novo arquivo se não existir esse nome"
      ]
    },
    {
      "cell_type": "markdown",
      "metadata": {
        "id": "4w_vgLojJ86M"
      },
      "source": [
        "Agora podemos utilizar o modo W para escrever \"por cima\" caso já tenha um arquivo com esse nome"
      ]
    },
    {
      "cell_type": "code",
      "execution_count": 3,
      "metadata": {
        "id": "Lkf30A3am2qY"
      },
      "outputs": [],
      "source": [
        "arquivo = open(\"ola.txt\", 'w')\n",
        "arquivo.write('hello world de novo passando por cima')\n",
        "arquivo.close()"
      ]
    },
    {
      "cell_type": "code",
      "execution_count": 4,
      "metadata": {
        "id": "oBsd4EoZm2yJ"
      },
      "outputs": [],
      "source": [
        "arquivo = open(\"ola.txt\", 'a')\n",
        "arquivo.write('\\nhello world mais uma vez')\n",
        "arquivo.close()"
      ]
    },
    {
      "cell_type": "markdown",
      "metadata": {
        "id": "AI_DZWMyyLoW"
      },
      "source": [
        "Após executar a célula acima, abra a pasta onde seu _notebook_ está salvo. Note que apareceu um ```ola.txt``` lá. Abra-o e verifique seu conteúdo.\n",
        "\n",
        "### Lendo arquivos\n",
        "Para ler um arquivo existente, não basta usar o _open_ para abri-lo. É necessário carregar seu conteúdo para uma _string_, de modo que possamos trabalhar com o texto da mesma forma que sempre trabalhamos. A função _read_ faz o oposto da _write_: ela retorna o texto existente no arquivo.\n",
        "\n",
        "Rode a célula abaixo."
      ]
    },
    {
      "cell_type": "code",
      "execution_count": 5,
      "metadata": {
        "colab": {
          "base_uri": "https://localhost:8080/"
        },
        "id": "nwRWKGHkm45v",
        "outputId": "0a5930d5-359e-4d5b-8558-fea40dfb417f"
      },
      "outputs": [
        {
          "name": "stdout",
          "output_type": "stream",
          "text": [
            "hello world de novo passando por cima\n",
            "hello world mais uma vez\n"
          ]
        }
      ],
      "source": [
        "arquivo = open('ola.txt', 'r')\n",
        "conteudo = arquivo.read()\n",
        "print(conteudo)\n",
        "arquivo.close()"
      ]
    },
    {
      "cell_type": "code",
      "execution_count": 9,
      "metadata": {
        "colab": {
          "base_uri": "https://localhost:8080/"
        },
        "id": "DbNmJGhpm4_E",
        "outputId": "6d8125b5-5d31-4ed9-d991-941c4ceedbab"
      },
      "outputs": [
        {
          "name": "stdout",
          "output_type": "stream",
          "text": [
            "hello\n",
            "world\n",
            "de\n",
            "novo\n",
            "passando\n",
            "por\n",
            "cima\n",
            "hello\n",
            "world\n",
            "mais\n",
            "uma\n",
            "vez\n"
          ]
        }
      ],
      "source": [
        "for linha in conteudo.split():\n",
        "  print(linha)"
      ]
    },
    {
      "cell_type": "code",
      "execution_count": null,
      "metadata": {
        "id": "yYwXYlvem5EK"
      },
      "outputs": [],
      "source": []
    },
    {
      "cell_type": "markdown",
      "metadata": {
        "id": "bghlUqY2yLoX"
      },
      "source": [
        "## Gerenciador de contexto\n",
        "\n",
        "Uma forma alternativa e \"mais segura\" de trabalhar com arquivos é utilizando um _gerenciador de contextos_. O gerenciador de contextos é, de maneira resumida, um pequeno bloco de código que realiza algumas tarefas e tratamentos de erro de maneira automatizada para nós. \n",
        "\n",
        "Com ele não precisamos nos preocupar em fechar o arquivo ao final da manipulação, pois ele irá fechar automaticamente para nós ao final do bloco. "
      ]
    },
    {
      "cell_type": "code",
      "execution_count": null,
      "metadata": {
        "id": "WAWd34czm6HM"
      },
      "outputs": [],
      "source": []
    },
    {
      "cell_type": "markdown",
      "metadata": {
        "id": "JTfzIeHdyLoY"
      },
      "source": [
        "No restante dos exemplos **seguiremos utilizando a primeira forma que aprendemos para reforçar que, por dentro, há sempre uma abertura e um fechamento de arquivo**. Mas sinta-se livre para utilizar a nova forma sempre que quiser!"
      ]
    },
    {
      "cell_type": "markdown",
      "metadata": {
        "id": "sLlFH2BK4D7l"
      },
      "source": [
        "## Utilizando o Google Colab e lendo arquivos do meu Google Drive"
      ]
    },
    {
      "cell_type": "markdown",
      "metadata": {
        "id": "-Do25hum4NBa"
      },
      "source": [
        "- Uma característica diferente que o Google Colab tem das outras IDEs populares é o fato dela estar online e ter facilidade de utilizar o Google Drive"
      ]
    },
    {
      "cell_type": "markdown",
      "metadata": {
        "id": "6ay7QnwT5JQ3"
      },
      "source": [
        "- Por que pode ser importante utilizar o Google Drive?\n",
        " - Permite você guardar e ler informações de um local na nuvem\n",
        " - Se utilizarmos o diretório padrão ele só persistirá durante o a sessão presente"
      ]
    },
    {
      "cell_type": "code",
      "execution_count": null,
      "metadata": {
        "id": "XU9LurREm8GA"
      },
      "outputs": [],
      "source": []
    },
    {
      "cell_type": "markdown",
      "metadata": {
        "id": "SWboC5IG5CZF"
      },
      "source": [
        "Agora conseguimos interagir com os arquivos do Google Drive da mesma maneira se fosse em outro diretório"
      ]
    },
    {
      "cell_type": "code",
      "execution_count": null,
      "metadata": {
        "id": "noknMphunL-I"
      },
      "outputs": [],
      "source": []
    },
    {
      "cell_type": "code",
      "execution_count": null,
      "metadata": {
        "id": "wyezn0o8nMEt"
      },
      "outputs": [],
      "source": []
    },
    {
      "cell_type": "code",
      "execution_count": null,
      "metadata": {
        "id": "zzqljQPEnMM1"
      },
      "outputs": [],
      "source": []
    },
    {
      "cell_type": "markdown",
      "metadata": {
        "id": "P4JV5LgqyLoZ"
      },
      "source": [
        "# Exercícios - parte 1"
      ]
    },
    {
      "cell_type": "markdown",
      "metadata": {
        "id": "z074EawTI1YZ"
      },
      "source": [
        "\n",
        "Use o conteúdo ensinado até o momento para realizar os exercícios abaixo. \n",
        "\n",
        "Para os exercícios envolvendo números, você pode utilizar o arquivo ```numeros.txt``` fornecido junto deste _notebook_ . link do arquivo ```numeros.txt```: https://drive.google.com/file/d/1iKodt0gYVQnwNZ0-FXnW4HBQp8ZS2Ml9/view?usp=sharing\n"
      ]
    },
    {
      "cell_type": "markdown",
      "metadata": {
        "id": "J4f662BQWWDg"
      },
      "source": [
        "1) Escreva um código que lê um arquivo de texto contendo uma série de números separados por quebra de linha (```'\\n'```) e os adiciona a uma lista. Imprima a lista na tela."
      ]
    },
    {
      "cell_type": "code",
      "execution_count": null,
      "metadata": {
        "id": "GGSZd8CXnPVq"
      },
      "outputs": [],
      "source": [
        "arq = open('numeros.txt', 'r', encoding='utf-8')\n",
        "numeros = arq.read()\n",
        "print(numeros)\n",
        "arq.close()"
      ]
    },
    {
      "cell_type": "code",
      "execution_count": 15,
      "metadata": {},
      "outputs": [
        {
          "name": "stdout",
          "output_type": "stream",
          "text": [
            "['9', '0', '8', '1', '9', '4', '6', '5', '4', '8', '4', '1', '7', '6', '7', '7', '1', '9', '8', '7', '1', '8', '7', '5', '1', '6', '3', '6', '6', '7', '3', '7', '6', '7', '9', '9', '4', '7', '9', '1', '6', '4', '1', '0', '0', '3', '5', '6', '5', '0', '5', '1', '7', '0', '1', '6', '4', '4', '9', '6', '7', '3', '7', '1', '3', '4', '1', '6', '8', '2', '1', '3', '9', '5', '3', '8', '3', '7', '8', '3', '2', '8', '8', '8', '5', '5', '4', '5', '2', '1', '6', '4', '4', '3', '9', '2', '6', '2']\n"
          ]
        }
      ],
      "source": [
        "lista_numeros = []\n",
        "for numero in numeros:\n",
        "  lista_numeros.append(numero)\n",
        "  if numero == '\\n':\n",
        "    lista_numeros.remove('\\n')\n",
        "\n",
        "print(lista_numeros)"
      ]
    },
    {
      "cell_type": "markdown",
      "metadata": {
        "id": "MJcx_fadyLoa"
      },
      "source": [
        "2) Escreva um programa que lê um arquivo de texto contendo uma série de números inteiros separados por quebra de linha (```\\n```) e escreva na tela o somatório dos números."
      ]
    },
    {
      "cell_type": "code",
      "execution_count": 24,
      "metadata": {
        "id": "pgEVi_UsnQVh"
      },
      "outputs": [
        {
          "name": "stdout",
          "output_type": "stream",
          "text": [
            "['9', '0', '8', '1', '9', '4', '6', '5', '4', '8', '4', '1', '7', '6', '7', '7', '1', '9', '8', '7', '1', '8', '7', '5', '1', '6', '3', '6', '6', '7', '3', '7', '6', '7', '9', '9', '4', '7', '9', '1', '6', '4', '1', '0', '0', '3', '5', '6', '5', '0', '5', '1', '7', '0', '1', '6', '4', '4', '9', '6', '7', '3', '7', '1', '3', '4', '1', '6', '8', '2', '1', '3', '9', '5', '3', '8', '3', '7', '8', '3', '2', '8', '8', '8', '5', '5', '4', '5', '2', '1', '6', '4', '4', '3', '9', '2', '6', '2']\n",
            "A soma da minha lista é: 472\n"
          ]
        }
      ],
      "source": [
        "lista_numeros = []\n",
        "for numero in numeros:\n",
        "  lista_numeros.append(numero)\n",
        "  if numero == '\\n':\n",
        "    lista_numeros.remove('\\n')\n",
        "\n",
        "print(lista_numeros)\n",
        "\n",
        "lista_nova = list(map(int, lista_numeros))\n",
        "\n",
        "print(f'A soma da minha lista é: {sum(lista_nova)}')   "
      ]
    },
    {
      "cell_type": "markdown",
      "metadata": {
        "id": "TGRNFGKLVZOU"
      },
      "source": [
        "3) Crie uma função que cheque se um número inteiro é primo (divisível por apenas 1 e por ele mesmo) ou não.\n",
        "- Se for primo retornar \"primo\"\n",
        "- Caso contrário, retorne \"não-primo\""
      ]
    },
    {
      "cell_type": "code",
      "execution_count": 37,
      "metadata": {
        "id": "mxdIJjWjnRbQ"
      },
      "outputs": [
        {
          "data": {
            "text/plain": [
              "'Esse número não é primo'"
            ]
          },
          "execution_count": 37,
          "metadata": {},
          "output_type": "execute_result"
        }
      ],
      "source": [
        "def primo(numero):\n",
        "    divisores = []\n",
        "    for i in range(1, numero +1):\n",
        "        divisores.append(i)\n",
        "    numeros = []\n",
        "    for x in divisores:\n",
        "      if numero % x == 0:\n",
        "        numeros.append(x)\n",
        "\n",
        "    if len(numeros) > 2:\n",
        "        return 'Esse número não é primo'    \n",
        "    else:\n",
        "        return 'Esse número é primo'    \n",
        "\n",
        "primo(6)"
      ]
    },
    {
      "cell_type": "markdown",
      "metadata": {
        "id": "htCtkGbQyLoa"
      },
      "source": [
        "4) Escreva um programa que lê um arquivo de texto contendo uma série de números separados por quebra de linha (```\\n```). Crie um novo arquivo onde você irá escrever \"primo\" ou \"não-primo\" na linha correspondente a cada número.\n",
        "\n",
        "- Importante: Além dos argumento que já passamos comumente para o open(), passe o argumento 'utf-8' para parâmetro encoding dentro do open(). "
      ]
    },
    {
      "cell_type": "code",
      "execution_count": 55,
      "metadata": {
        "id": "L38ysqIUnSy6"
      },
      "outputs": [],
      "source": [
        "lista_primos = list(map(primo,lista_nova))\n",
        "\n",
        "with open('primos.txt','w') as lista_de_primos:\n",
        "   lista_de_primos.write(\" \\n\".join(lista_primos))\n",
        "\n",
        "        \n",
        "\n",
        "\n",
        "\n"
      ]
    },
    {
      "cell_type": "code",
      "execution_count": 56,
      "metadata": {
        "id": "e3EJCV15nUBN"
      },
      "outputs": [
        {
          "name": "stdout",
          "output_type": "stream",
          "text": [
            "Esse número não é primo \n",
            "Esse número é primo \n",
            "Esse número não é primo \n",
            "Esse número é primo \n",
            "Esse número não é primo \n",
            "Esse número não é primo \n",
            "Esse número não é primo \n",
            "Esse número é primo \n",
            "Esse número não é primo \n",
            "Esse número não é primo \n",
            "Esse número não é primo \n",
            "Esse número é primo \n",
            "Esse número é primo \n",
            "Esse número não é primo \n",
            "Esse número é primo \n",
            "Esse número é primo \n",
            "Esse número é primo \n",
            "Esse número não é primo \n",
            "Esse número não é primo \n",
            "Esse número é primo \n",
            "Esse número é primo \n",
            "Esse número não é primo \n",
            "Esse número é primo \n",
            "Esse número é primo \n",
            "Esse número é primo \n",
            "Esse número não é primo \n",
            "Esse número é primo \n",
            "Esse número não é primo \n",
            "Esse número não é primo \n",
            "Esse número é primo \n",
            "Esse número é primo \n",
            "Esse número é primo \n",
            "Esse número não é primo \n",
            "Esse número é primo \n",
            "Esse número não é primo \n",
            "Esse número não é primo \n",
            "Esse número não é primo \n",
            "Esse número é primo \n",
            "Esse número não é primo \n",
            "Esse número é primo \n",
            "Esse número não é primo \n",
            "Esse número não é primo \n",
            "Esse número é primo \n",
            "Esse número é primo \n",
            "Esse número é primo \n",
            "Esse número é primo \n",
            "Esse número é primo \n",
            "Esse número não é primo \n",
            "Esse número é primo \n",
            "Esse número é primo \n",
            "Esse número é primo \n",
            "Esse número é primo \n",
            "Esse número é primo \n",
            "Esse número é primo \n",
            "Esse número é primo \n",
            "Esse número não é primo \n",
            "Esse número não é primo \n",
            "Esse número não é primo \n",
            "Esse número não é primo \n",
            "Esse número não é primo \n",
            "Esse número é primo \n",
            "Esse número é primo \n",
            "Esse número é primo \n",
            "Esse número é primo \n",
            "Esse número é primo \n",
            "Esse número não é primo \n",
            "Esse número é primo \n",
            "Esse número não é primo \n",
            "Esse número não é primo \n",
            "Esse número é primo \n",
            "Esse número é primo \n",
            "Esse número é primo \n",
            "Esse número não é primo \n",
            "Esse número é primo \n",
            "Esse número é primo \n",
            "Esse número não é primo \n",
            "Esse número é primo \n",
            "Esse número é primo \n",
            "Esse número não é primo \n",
            "Esse número é primo \n",
            "Esse número é primo \n",
            "Esse número não é primo \n",
            "Esse número não é primo \n",
            "Esse número não é primo \n",
            "Esse número é primo \n",
            "Esse número é primo \n",
            "Esse número não é primo \n",
            "Esse número é primo \n",
            "Esse número é primo \n",
            "Esse número é primo \n",
            "Esse número não é primo \n",
            "Esse número não é primo \n",
            "Esse número não é primo \n",
            "Esse número é primo \n",
            "Esse número não é primo \n",
            "Esse número é primo \n",
            "Esse número não é primo \n",
            "Esse número é primo\n"
          ]
        }
      ],
      "source": [
        "arq_primo = open('primos.txt','r')\n",
        "numeros_primos = arq_primo.read()\n",
        "print(numeros_primos)\n",
        "arq_primo.close()"
      ]
    },
    {
      "cell_type": "markdown",
      "metadata": {
        "id": "sDHELy-EyLoc"
      },
      "source": [
        "# Arquivos CSV\n",
        "Muitos dados interessantes ou importantes estão disponíveis na forma de tabela. A capacidade de manipular planilhas foi determinante no sucesso dos computadores pessoais, dada sua importância para empresas e indivíduos.\n",
        "\n",
        "Aprenderemos a manipular dados utilizando um dos formatos de planilha mais amplamente utilizados na _web_: o formato CSV. Mas antes, como podemos representar tabelas em Python?\n",
        "\n",
        "## Tabelas em Python\n",
        "Conforme já mencionamos, temos módulos prontos para realizar muitas tarefas para nós. Um dos módulos mais populares em Python é o _pandas_, que mesmo não vindo instalado por padrão é provavelmente o módulo mais usado para manipular planilhas. Porém, como este é um curso introdutório, convém entendermos um pouquinho de lógica de como manipular uma tabela para futuramente sermos capazes de trabalhar corretamente com os módulos prontos.\n",
        "\n",
        "Uma das formas mais simples de se representar uma tabela em Python seria através de uma lista de listas. Nossa lista principal seria a tabela como um todo, e cada lista interna seria uma linha da tabela. \n",
        "\n",
        "Para acessar um elemento individual, utilizamos 2 índices: o primeiro indica a lista interna (linha) e o segundo o elemento individual na lista (coluna). Para percorrer a tabela inteira, utilizamos 2 _for_ aninhados: o mais externo fixa uma linha e o mais interno percorre cada elemento daquela linha."
      ]
    },
    {
      "cell_type": "code",
      "execution_count": null,
      "metadata": {
        "id": "jOIVB4HOnfaG"
      },
      "outputs": [],
      "source": []
    },
    {
      "cell_type": "code",
      "execution_count": null,
      "metadata": {
        "id": "C_iWAuaenfhV"
      },
      "outputs": [],
      "source": []
    },
    {
      "cell_type": "code",
      "execution_count": null,
      "metadata": {
        "id": "lL47szUUnfoN"
      },
      "outputs": [],
      "source": []
    },
    {
      "cell_type": "code",
      "execution_count": null,
      "metadata": {
        "id": "0FMkBy8tnfut"
      },
      "outputs": [],
      "source": []
    },
    {
      "cell_type": "markdown",
      "metadata": {
        "id": "wVEYg06zyLod"
      },
      "source": [
        "## O formato CSV\n",
        "A sigla CSV significa _Comma-Separated Values_, ou \"valores separados por vírgula\". Este formato é uma forma padrão de representar tabelas usando arquivos de texto simples: cada elemento é separado por uma vírgula, e cada linha é separada por uma quebra de linha. \n",
        "\n",
        "Na prática, nem sempre o padrão é seguido à risca: podemos utilizar outros símbolos para fazer a separação. Um bom motivo é o fato de a vírgula ser utilizada para representar casa decimal em algumas línguas, como a língua portuguesa. O importante é ser coerente: todos os elementos deverão ser separados pelo mesmo símbolo, e todas as linhas deverão ter o mesmo número de elementos.\n",
        "\n",
        "Caso queira fazer depois: Cole o texto abaixo em um editor de texto puro (como o Bloco de Notas, no Windows) e salve-o com a extensão .csv. \n",
        "\n",
        "```\n",
        "Aluno;Nota 1;Nota 2;Presenças\n",
        "Luke;7;9;15\n",
        "Han;4;7;10\n",
        "Leia;9;9;16\n",
        "```\n",
        "\n",
        "Caso você tenha um editor de planilha instalado, como o Excel, é provável que o ícone representando o arquivo seja o ícone do editor de planilhas, e não de um arquivo de texto. Abra-o com seu editor de planilha e observe como ele interpreta corretamente os dados!\n",
        "\n",
        "Devido ao fato de ser um formato aberto (ou seja, não é necessário pagar por propriedade intelectual para usar) e ser muito fácil de manipular, diversos programas diferentes possuem a opção de importar ou exportar dados em CSV, e diversas bases de dados na _web_ fornecem a opção de baixar os dados neste formato.\n",
        "\n",
        "## O módulo CSV em Python\n",
        "Devido à facilidade de trabalhar com arquivos CSV, com o que vimos sobre arquivos até o momento já conseguimos facilmente escrever um programinha que escreva uma planilha (representada como lista de listas) em um arquivo CSV. Da mesma forma, utilizando as funções que vimos de _strings_, conseguimos abrir um arquivo CSV e adequadamente reconhecer seus elementos (dica: _split_).\n",
        "\n",
        "Porém, como mencionamos antes, o Python possui muita coisa pronta, então não precisamos constantemente reinventar a roda. Existe um módulo chamado _csv_ que já vem instalado com o Python. Ele já faz sozinho o serviço bruto de transformar nossa lista de listas em um texto separado por símbolos e vice-versa."
      ]
    },
    {
      "cell_type": "markdown",
      "metadata": {
        "id": "vzfkE5bRelEG"
      },
      "source": [
        "\n",
        "### Escrevendo um CSV\n",
        "Para escrever um CSV utilizando o módulo, precisamos ter nossos dados representados como uma lista de listas. Criaremos (ou abriremos) um arquivo usando o _open_, como já fizemos antes, e utilizaremos um _CSV writer_ - uma estrutura que guardará as regrinhas para escrever nosso CSV. Execute o exemplo abaixo:"
      ]
    },
    {
      "cell_type": "code",
      "execution_count": null,
      "metadata": {
        "id": "2L1tUIwyniZ0"
      },
      "outputs": [],
      "source": []
    },
    {
      "cell_type": "markdown",
      "metadata": {
        "id": "0vkpQZWyyLod"
      },
      "source": [
        "Após executar o programa acima, deve ter surgido um programa _alunos.csv_ na mesma pasta, e seu editor de planilhas provavelmente o reconhece com sucesso. Se você abri-lo com um editor de texto puro, verá os dados separados por **;** igualzinho ao arquivo que criamos manualmente antes.\n",
        "\n",
        "### Lendo um CSV\n",
        "O processo para ler o CSV é semelhante: utilizamos um _CSV reader_, com os mesmos parâmetros utilizados no _CSV writer_. A função _csv.reader_ já retorna para nós uma estrutura iterável (ou seja, que pode ser percorrida com _for_) contendo cada linha já organizada como lista."
      ]
    },
    {
      "cell_type": "code",
      "execution_count": null,
      "metadata": {
        "id": "GmlpPPiWnjOd"
      },
      "outputs": [],
      "source": []
    },
    {
      "cell_type": "markdown",
      "metadata": {
        "id": "9B3MdTSFyLoe"
      },
      "source": [
        "Note que a estrutura **não é** uma lista, mas um objeto iterável. Vejamos o que acontece se tentarmos imprimi-lo diretamente:"
      ]
    },
    {
      "cell_type": "code",
      "execution_count": null,
      "metadata": {
        "id": "8BSG1mYSnk24"
      },
      "outputs": [],
      "source": []
    },
    {
      "cell_type": "markdown",
      "metadata": {
        "id": "Gvu9JApFyLoe"
      },
      "source": [
        "Caso você precise de mais flexibilidade para trabalhar com a sua planilha - por exemplo, caso deseje editá-la, criar novas colunas etc, convém converter a estrutura para uma lista de verdade. É possível usar um ```list``` no objeto para fazer a conversão:"
      ]
    },
    {
      "cell_type": "code",
      "execution_count": null,
      "metadata": {
        "id": "lBqVx89lnl74"
      },
      "outputs": [],
      "source": []
    },
    {
      "cell_type": "markdown",
      "metadata": {
        "id": "6isqo9wSyLof"
      },
      "source": [
        "# Exercícios - parte 2\n",
        "\n",
        "Use o módulo ```csv``` recém-estudado para fazer os próximos exercícios."
      ]
    },
    {
      "cell_type": "markdown",
      "metadata": {
        "id": "rZY_qluJBC7w"
      },
      "source": [
        "5) Faça um código que pede para o usuário digitar a quantidade de provas aplicadas, a quantidade de alunos em uma turma e cada uma das notas.\n",
        "\n",
        "- O seu programa deverá salvar apenas as notas digitadas em um arquivo CSV onde cada linha representa um aluno e cada coluna é uma nota da prova."
      ]
    },
    {
      "cell_type": "code",
      "execution_count": 4,
      "metadata": {
        "id": "PwV3JSJOnob8"
      },
      "outputs": [
        {
          "name": "stdout",
          "output_type": "stream",
          "text": [
            "[['8', '9'], ['7', '6']]\n"
          ]
        }
      ],
      "source": [
        "qnt_provas = int(input('Quantidade de provas aplicadas: '))\n",
        "qnt_alunos = int(input('Quantidade de alunos: '))\n",
        "\n",
        "notas_alunos = []\n",
        "for aluno in range(qnt_alunos):\n",
        "    notas = []\n",
        "    for prova in range (qnt_alunos):\n",
        "     nota = int(input(f'Nota do aluno {aluno} da prova {prova}: '))\n",
        "     notas.append(str(nota))\n",
        "    notas_alunos.append(notas)\n",
        "\n",
        "print(notas_alunos)\n",
        "\n"
      ]
    },
    {
      "cell_type": "code",
      "execution_count": 5,
      "metadata": {},
      "outputs": [],
      "source": [
        "import csv\n",
        "\n",
        "arquivo = open(\"notas.csv\", 'w')\n",
        "\n",
        "escritor = csv.writer(arquivo, delimiter=\";\", lineterminator=\"\\n\" )\n",
        "\n",
        "escritor.writerows(notas_alunos)\n",
        "\n",
        "arquivo.close()"
      ]
    },
    {
      "cell_type": "markdown",
      "metadata": {
        "id": "n_L7ckCwyLof"
      },
      "source": [
        "6) Faça um programa que carrega um arquivo CSV de notas (como o gerado pelo exercício anterior) e pede para o usuário digitar a nota mínima para aprovação. Ele deverá gerar um novo arquivo contendo as notas originais e 2 colunas adicionais: A média de cada aluno na primeira (com 2 casas decimais) e \"APR\" ou \"REP\" na segunda, indicando se a média atingiu o valor mínimo ou não.\n",
        "\n",
        "- Para arredondar, pode utilizar a função round()"
      ]
    },
    {
      "cell_type": "code",
      "execution_count": 14,
      "metadata": {
        "id": "4gmCfkyenqeY"
      },
      "outputs": [
        {
          "name": "stdout",
          "output_type": "stream",
          "text": [
            "[[8.0, 9.0], [7.0, 6.0]]\n"
          ]
        }
      ],
      "source": [
        "import csv\n",
        "\n",
        "arquivo = open(\"notas.csv\", 'r')\n",
        "\n",
        "leitor = csv.reader(arquivo, delimiter = ';', lineterminator= '\\n')\n",
        "\n",
        "tabela_notas = []\n",
        "\n",
        "for linha in leitor:\n",
        "    tabela_notas.append(list(map(float,linha)))\n",
        "\n",
        "print(tabela_notas)"
      ]
    },
    {
      "cell_type": "code",
      "execution_count": 15,
      "metadata": {
        "id": "QOsnTD72nqlu"
      },
      "outputs": [
        {
          "name": "stdout",
          "output_type": "stream",
          "text": [
            "[[8.0, 9.0, 8.5, 'APR'], [7.0, 6.0, 6.5, 'REP']]\n"
          ]
        }
      ],
      "source": [
        "nota_minima = 8.0\n",
        "\n",
        "for aluno in tabela_notas:\n",
        "    soma = 0\n",
        "    for nota in aluno:\n",
        "        soma += nota\n",
        "    media = round(soma/len(aluno),2) \n",
        "    aluno.append(media)   \n",
        "    if media >= 8.0:\n",
        "        aluno.append('APR')\n",
        "    else:\n",
        "        aluno.append('REP')  \n",
        "\n",
        "print(tabela_notas)      \n",
        "\n"
      ]
    },
    {
      "cell_type": "code",
      "execution_count": 16,
      "metadata": {
        "id": "W6sgS7Kunqsj"
      },
      "outputs": [],
      "source": [
        "arquivo = open('resultados_finais.csv', 'w')\n",
        "\n",
        "escritor = csv.writer(arquivo, delimiter='|', lineterminator='\\n')\n",
        "\n",
        "escritor.writerows(tabela_notas)\n",
        "\n",
        "arquivo.close()\n",
        "\n"
      ]
    },
    {
      "cell_type": "markdown",
      "metadata": {
        "id": "u5f_eL-tyLog"
      },
      "source": [
        "# Bônus: arquivos JSON\n",
        "\n",
        "JSON é uma sigla para _JavaScript Object Notation_. O _JavaScript_ é uma linguagem muito utilizada em web, e assim como o Python, ela é uma linguagem orientada a objeto. Ocorre que a forma como objetos são representados nessa linguagem é bastante legível para seres humanos e fácil de decompor usando programação também.\n",
        "\n",
        "Veja um exemplo de como podemos representar, por exemplo, um estudante em JavaScript:\n",
        "\n",
        "```\n",
        "{\n",
        "    nome: 'Mario',\n",
        "    modulo: 2,\n",
        "    media: 9.5 \n",
        "}\n",
        "```\n",
        "\n",
        "Parece familiar? É extremamente parecido com dicionários em Python. O Python possui um módulo já instalado chamado ```json``` que nos ajuda a converter entre uma _string_ contendo um JSON e um dicionário.\n",
        "\n",
        "> **Atenção:** No caso do JSON faremos *exatamente* como nos dicionários em Python: as chaves deverão vir entre aspas.\n",
        "\n",
        "Os valores de um JSON podem ser vários tipos de dados que estamos acostumados em Python: inteiros, reais, _strings_, booleanos, e até mesmo listas (representadas com colchetes) e outros JSON/dicionários (representados por chaves). Por exemplo:\n",
        "\n",
        "```\n",
        "{\n",
        "    'escola':\"Let's Code\",\n",
        "    'cursos':[{'nome':'Python Pro', 'duracao':2}, \n",
        "            {'nome':'Data Science', 'duracao':2},\n",
        "            {'nome':'Front-End', 'duracao':2}]\n",
        "}\n",
        "```\n",
        "\n",
        "### JSON para dicionário\n",
        "O método ```loads``` recebe uma _string_ contendo um JSON e retorna um dicionário, o que torna bastante fácil o acesso a informações individuais:"
      ]
    },
    {
      "cell_type": "code",
      "execution_count": 17,
      "metadata": {
        "id": "XSZR2iaLn3ke"
      },
      "outputs": [
        {
          "name": "stdout",
          "output_type": "stream",
          "text": [
            "Mario\n",
            "0\n"
          ]
        }
      ],
      "source": [
        "import json\n",
        "\n",
        "jogador = '{\"nome\":\"Mario\",\"pontuacao\":0}'\n",
        "\n",
        "dicionario = json.loads(jogador)\n",
        "\n",
        "print(dicionario['nome'])\n",
        "print(dicionario['pontuacao'])"
      ]
    },
    {
      "cell_type": "markdown",
      "metadata": {
        "id": "4AlKqBxEyLog"
      },
      "source": [
        "### Dicionário para JSON\n",
        "Já o método ```dumps``` recebe um dicionário e retorna uma _string_ pronta para ser salva ou enviada como JSON:"
      ]
    },
    {
      "cell_type": "code",
      "execution_count": 18,
      "metadata": {
        "id": "1qxK03r5n4hl"
      },
      "outputs": [
        {
          "name": "stdout",
          "output_type": "stream",
          "text": [
            "{\"nome\": \"Mario\", \"pontuacao\": 0}\n"
          ]
        }
      ],
      "source": [
        "import json\n",
        "\n",
        "jogador = dict()\n",
        "jogador[\"nome\"]  = \"Mario\"\n",
        "jogador[\"pontuacao\"] = 0\n",
        "\n",
        "string_json = json.dumps(jogador)\n",
        "\n",
        "print(string_json)"
      ]
    },
    {
      "cell_type": "code",
      "execution_count": null,
      "metadata": {
        "id": "AmzBK500n6oS"
      },
      "outputs": [],
      "source": []
    },
    {
      "cell_type": "code",
      "execution_count": null,
      "metadata": {
        "id": "e36yQaTmn6tv"
      },
      "outputs": [],
      "source": []
    },
    {
      "cell_type": "markdown",
      "metadata": {
        "id": "UfuN-yDKhM4G"
      },
      "source": [
        "Por que deu erro?"
      ]
    },
    {
      "cell_type": "code",
      "execution_count": null,
      "metadata": {
        "id": "CPqegt6rn7pI"
      },
      "outputs": [],
      "source": []
    },
    {
      "cell_type": "markdown",
      "metadata": {
        "id": "qLlGddyDyLoh"
      },
      "source": [
        "### E os arquivos?\n",
        "\n",
        "Arquivos JSON, assim como CSV, são arquivos de texto puro onde o texto deve representar a estrutura dada acima. Sendo assim, caso você tenha um arquivo ```.json```, você pode abri-lo usando as mesmas técnicas que estudamos para arquivos de texto (```open```/```read```) e em seguida usar o ```loads``` para obter um dicionário. \n",
        "\n",
        "Já quando temos um dicionário que gostaríamos de salvar como um ```.json```, basta usar o ```dumps``` para obter a string, e em seguida podemos utilizar ```write``` no arquivo desejado. "
      ]
    },
    {
      "cell_type": "code",
      "execution_count": 19,
      "metadata": {
        "id": "aHLmKLuFoByA"
      },
      "outputs": [],
      "source": [
        "arquivo = open(\"arquivo_json.json\", \"w\")\n",
        "arquivo.write(string_json)\n",
        "arquivo.close()"
      ]
    },
    {
      "cell_type": "code",
      "execution_count": 20,
      "metadata": {
        "id": "2dzabVfqoB3V"
      },
      "outputs": [
        {
          "name": "stdout",
          "output_type": "stream",
          "text": [
            "dict_items([('nome', 'Mario'), ('pontuacao', 0)])\n"
          ]
        }
      ],
      "source": [
        "import json\n",
        "\n",
        "arquivo = open(\"arquivo_json.json\", \"r\")\n",
        "conteudo = arquivo.read()\n",
        "\n",
        "dicionario = json.loads(conteudo)\n",
        "print(dicionario.items())\n",
        "arquivo.close()"
      ]
    }
  ],
  "metadata": {
    "colab": {
      "collapsed_sections": [],
      "provenance": []
    },
    "kernelspec": {
      "display_name": "Python 3.10.8 64-bit",
      "language": "python",
      "name": "python3"
    },
    "language_info": {
      "codemirror_mode": {
        "name": "ipython",
        "version": 3
      },
      "file_extension": ".py",
      "mimetype": "text/x-python",
      "name": "python",
      "nbconvert_exporter": "python",
      "pygments_lexer": "ipython3",
      "version": "3.10.8"
    },
    "orig_nbformat": 4,
    "vscode": {
      "interpreter": {
        "hash": "266e4ed99da35cbe34fc3f17b9ce3e8f0a108bab8759dce1099fca033f12935b"
      }
    }
  },
  "nbformat": 4,
  "nbformat_minor": 0
}
